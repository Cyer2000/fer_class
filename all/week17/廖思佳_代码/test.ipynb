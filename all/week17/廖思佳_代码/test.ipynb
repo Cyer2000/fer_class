{
 "cells": [
  {
   "cell_type": "code",
   "execution_count": 1,
   "metadata": {},
   "outputs": [],
   "source": [
    "from __future__ import print_function\n",
    "import torch\n",
    "from torch import tensor"
   ]
  },
  {
   "cell_type": "code",
   "execution_count": 8,
   "metadata": {},
   "outputs": [
    {
     "name": "stdout",
     "output_type": "stream",
     "text": [
      "This is test -> hhhh\n",
      "tensor([[[[-0.2107,  0.9076, -0.4736],\n",
      "          [ 1.1513, -2.0999, -1.4710]],\n",
      "\n",
      "         [[ 1.9903,  1.2881,  0.2106],\n",
      "          [ 0.6337, -1.8029, -0.5580]]],\n",
      "\n",
      "\n",
      "        [[[-0.0852,  0.8813,  0.9911],\n",
      "          [-2.1323,  0.1359,  1.5391]],\n",
      "\n",
      "         [[ 0.6895,  1.7880,  0.1829],\n",
      "          [ 1.0341, -0.8454, -0.6233]]],\n",
      "\n",
      "\n",
      "        [[[-0.5648,  0.4411,  0.9810],\n",
      "          [-1.2038, -0.0420, -1.0039]],\n",
      "\n",
      "         [[-1.1804, -0.8301, -0.2067],\n",
      "          [-0.6199, -0.9497, -1.4524]]],\n",
      "\n",
      "\n",
      "        [[[ 0.3261, -0.2439,  1.8939],\n",
      "          [ 0.1056, -0.5177, -0.6663]],\n",
      "\n",
      "         [[-0.9355, -0.5261, -0.6409],\n",
      "          [ 0.9625, -0.5376, -1.5680]]]])\n"
     ]
    }
   ],
   "source": [
    "print('This is test -> ',end='') # 不换行\n",
    "print('hhhh')\n",
    "\n",
    "a = torch.randn(4,2,2,3)\n",
    "print(a)"
   ]
  },
  {
   "cell_type": "code",
   "execution_count": 18,
   "metadata": {},
   "outputs": [
    {
     "name": "stdout",
     "output_type": "stream",
     "text": [
      "tensor([[[0],\n",
      "         [0],\n",
      "         [1],\n",
      "         [1]],\n",
      "\n",
      "        [[0],\n",
      "         [1],\n",
      "         [0],\n",
      "         [1]]])\n",
      "tensor([[[0, 0, 1, 1]],\n",
      "\n",
      "        [[0, 1, 0, 1]]])\n",
      "tensor([[[3, 1],\n",
      "         [3, 0],\n",
      "         [0, 1],\n",
      "         [0, 0]],\n",
      "\n",
      "        [[3, 2],\n",
      "         [3, 1],\n",
      "         [0, 2],\n",
      "         [0, 1]],\n",
      "\n",
      "        [[6, 1],\n",
      "         [6, 0],\n",
      "         [3, 1],\n",
      "         [3, 0]],\n",
      "\n",
      "        [[6, 2],\n",
      "         [6, 1],\n",
      "         [3, 2],\n",
      "         [3, 1]]])\n",
      "tensor([[[3, 3, 6, 6],\n",
      "         [1, 2, 1, 2]],\n",
      "\n",
      "        [[3, 3, 6, 6],\n",
      "         [0, 1, 0, 1]],\n",
      "\n",
      "        [[0, 0, 3, 3],\n",
      "         [1, 2, 1, 2]],\n",
      "\n",
      "        [[0, 0, 3, 3],\n",
      "         [0, 1, 0, 1]]])\n",
      "tensor([[4, 3, 1, 0],\n",
      "        [5, 4, 2, 1],\n",
      "        [7, 6, 4, 3],\n",
      "        [8, 7, 5, 4]])\n"
     ]
    }
   ],
   "source": [
    "window_size = (2,2)\n",
    "coords_h = torch.arange(window_size[0])\n",
    "coords_w = torch.arange(window_size[1])\n",
    "coords = torch.stack(torch.meshgrid([coords_h, coords_w]))\n",
    "coords_flatten = torch.flatten(coords, 1)\n",
    "\n",
    "relative_coords = coords_flatten[:, :, None] - coords_flatten[:, None, :] # 2, Wh * Ww, Wh * Ww\n",
    "relative_coords = relative_coords.permute(1, 2, 0).contiguous()  # Wh*Ww, Wh*Ww, 2\n",
    "relative_coords[:, :, 0] += window_size[0] -1 # h: shift to start from 0 在高度上离当前位置最远的距离为 （self.window_size[0] -1）\n",
    "relative_coords[:, :, 1] += window_size[1] -1 # w:\n",
    "relative_coords[:, :, 0] *= 2 * window_size[1] -1\n",
    "relative_position_index = relative_coords.sum(-1) # Wh*Ww, Wh*Ww 在最后一维上求和，展开成一个 1D 坐标\n",
    "#print(coords_h)\n",
    "#print(coords_w)\n",
    "#print(torch.meshgrid([coords_h, coords_w]))\n",
    "#print(coords)\n",
    "#print(coords_flatten)\n",
    "print(coords_flatten[:, :, None])\n",
    "print(coords_flatten[:, None, :])\n",
    "print(relative_coords)\n",
    "print(relative_coords.permute(1, 2, 0))\n",
    "print(relative_position_index)"
   ]
  },
  {
   "cell_type": "code",
   "execution_count": 20,
   "metadata": {},
   "outputs": [
    {
     "name": "stdout",
     "output_type": "stream",
     "text": [
      "tensor([[ 1.6898, -0.5122,  0.4998],\n",
      "        [-1.2352,  1.7703,  0.5849]])\n",
      "tensor([ 1.6898, -0.5122,  0.4998, -1.2352,  1.7703,  0.5849])\n"
     ]
    }
   ],
   "source": [
    "a = torch.randn(2,3)\n",
    "print(a)\n",
    "print(a.view(-1))"
   ]
  }
 ],
 "metadata": {
  "interpreter": {
   "hash": "be203ce0b3afc4f5c37fbac412025d7ed1d67cabe9dd00b1fc8774c6d6d19d70"
  },
  "kernelspec": {
   "display_name": "Python 3.8.12 64-bit ('pytorch': conda)",
   "language": "python",
   "name": "python3"
  },
  "language_info": {
   "codemirror_mode": {
    "name": "ipython",
    "version": 3
   },
   "file_extension": ".py",
   "mimetype": "text/x-python",
   "name": "python",
   "nbconvert_exporter": "python",
   "pygments_lexer": "ipython3",
   "version": "3.8.12"
  },
  "orig_nbformat": 4
 },
 "nbformat": 4,
 "nbformat_minor": 2
}
