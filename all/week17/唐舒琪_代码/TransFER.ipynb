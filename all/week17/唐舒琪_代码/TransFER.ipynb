{
 "cells": [
  {
   "cell_type": "markdown",
   "metadata": {},
   "source": [
    "下面开始构架数据集"
   ]
  },
  {
   "cell_type": "code",
   "execution_count": 86,
   "metadata": {},
   "outputs": [],
   "source": [
    "import torch.utils.data as data\n",
    "import pandas as pd\n",
    "import os\n",
    "import image_utils\n",
    "import cv2\n",
    "from torchvision import transforms\n",
    "import torch\n",
    "import random\n",
    "import torchvision\n",
    "from IPython.display import display\n",
    "from einops.layers.torch import Rearrange\n",
    "from torch import nn\n",
    "import torch\n",
    "from torchvision import transforms\n",
    "pil=torchvision.transforms.ToPILImage()#将tensor数据转换成图片\n",
    "\n",
    "class RAFDB(data.Dataset):\n",
    "    def __init__(self,phase=\"train\",transform=None,basic_aug=True):\n",
    "        self.phase=phase\n",
    "        self.transform=transform\n",
    "        self.basic_aug=basic_aug\n",
    "        \n",
    "        NAME_COLUMN=0 #图片名字\n",
    "        LABEL_COLUMN=1 #图片标签\n",
    "\n",
    "        df=pd.read_csv(\"E:/desktop/WY/MY/15/datasets/raf-basic/EmoLabel/list_patition_label.txt\",sep=' ',header=None)\n",
    "        if phase==\"train\":\n",
    "            dataset=df[df[NAME_COLUMN].str.startswith('train')]\n",
    "        else:\n",
    "            dataset=df[df[NAME_COLUMN].str.startswith('test')]\n",
    "        file_names=dataset.iloc[:,NAME_COLUMN].values    #所有行获得第一列的文件名字\n",
    "        self.label=dataset.iloc[:,LABEL_COLUMN].values-1 #  0:Surprise, 1:Fear, 2:Disgust, 3:Happiness, 4:Sadness, 5:Anger, 6:Neutral\n",
    "\n",
    "        self.file_paths=[]#使用对齐过的图片进行训练、测试\n",
    "\n",
    "        for f in file_names:\n",
    "            f=f.split(\".\")[0] #只要文件名字，不要后缀名\n",
    "            f=f+\"_aligned.jpg\" #使用对齐后的图片\n",
    "            path=os.path.join('E:/desktop/WY/MY/15/datasets/raf-basic/Image/aligned',f)\n",
    "            self.file_paths.append(path)\n",
    "\n",
    "        self.aug_func=[image_utils.flip_image,image_utils.add_gaussian_noise]\n",
    "\n",
    "    def __len__(self):\n",
    "        return len(self.file_paths)   #返回一共有多少张图片\n",
    "\n",
    "    def __getitem__(self,idx):   \n",
    "        path=self.file_paths[idx]\n",
    "        image=cv2.imread(path)\n",
    "        image = image[:, :, ::-1]  #读取该张图片并将其转换为RGB格式，原格式为#BGR\n",
    "        label=self.label[idx]  #得到该张图片对应的标签\n",
    "\n",
    "        #如果是训练阶段，就对图片进行随机增强\n",
    "        if self.phase==\"train\":\n",
    "            if self.basic_aug and random.uniform(0,1)>0.5:\n",
    "                #即如果basic_aug为真并且随机数大于0.5，就对该张图片进行随机增强\n",
    "                index=random.randint(0,1) #随机取0或者取1\n",
    "                image=self.aug_func[index](image) #取增强中的随机一种方法进行图片增强\n",
    "\n",
    "            #然后再对图片进行预处理\n",
    "        if self.transform is not None:\n",
    "            #一系列变换，根据均值标准差进行归一化,随机翻转、随机遮挡\n",
    "            image=self.transform(image)\n",
    "\n",
    "        return image,label,idx   #返回处理过后的图片数据、图片标签以及图片对应的位置\n"
   ]
  },
  {
   "cell_type": "markdown",
   "metadata": {},
   "source": [
    "测试数据集是否正确\n"
   ]
  },
  {
   "cell_type": "code",
   "execution_count": 87,
   "metadata": {},
   "outputs": [
    {
     "data": {
      "image/png": "[encoded data removed]",
      "text/plain": [
       "<PIL.Image.Image image mode=RGB size=112x112 at 0x237A0BBB220>"
      ]
     },
     "metadata": {},
     "output_type": "display_data"
    }
   ],
   "source": [
    "train_transforms = transforms.Compose([\n",
    "            transforms.ToPILImage(),\n",
    "            transforms.Resize((112, 112)),\n",
    "            transforms.ToTensor(),\n",
    "            transforms.Normalize(mean=[0.485, 0.456, 0.406],\n",
    "                                     std=[0.229, 0.224, 0.225]),\n",
    "            transforms.RandomErasing(scale=(0.02,0.25))])\n",
    "train_dataset=RAFDB(phase='train',transform=train_transforms,basic_aug=True)\n",
    "display(pil(train_dataset.__getitem__(0)[0]))\n"
   ]
  },
  {
   "cell_type": "markdown",
   "metadata": {},
   "source": [
    "下面构建IR-50"
   ]
  },
  {
   "cell_type": "code",
   "execution_count": null,
   "metadata": {},
   "outputs": [],
   "source": [
    "class IR_50(nn.Module):\n",
    "    def __init__(self):\n",
    "        super().__init__()\n",
    "        self.stage0=nn.Sequential(\n",
    "            nn.Conv2d(in_channels=3,out_channels=32,kernel_size=(3,3),stride=1,padding=1),\n",
    "            nn.Conv2d(in_channels=32,out_channels=32,kernel_size=(3,3),stride=1,padding=1),\n",
    "            nn.MaxPool2d(kernel_size=(2,2),stride=2,padding=0) \n",
    "        )\n",
    "        self.stage1=nn.Sequential(\n",
    "            nn.Conv2d(in_channels=32,out_channels=64,kernel_size=(3,3),stride=1,padding=1),\n",
    "            nn.Conv2d(in_channels=64,out_channels=64,kernel_size=(3,3),stride=1,padding=1),\n",
    "            nn.MaxPool2d(kernel_size=(2,2),stride=2,padding=0) \n",
    "        )\n",
    "        self.stage2=nn.Sequential(\n",
    "            nn.Conv2d(in_channels=64,out_channels=128,kernel_size=(3,3),stride=1,padding=1),\n",
    "            nn.Conv2d(in_channels=128,out_channels=128,kernel_size=(3,3),stride=1,padding=1),\n",
    "            nn.MaxPool2d(kernel_size=(2,2),stride=2,padding=0) \n",
    "        )\n",
    "\n",
    "    def forward(self,input):\n",
    "        output=self.stage0(input)\n",
    "        output=self.stage1(output)\n",
    "        output=self.stage2(output)\n",
    "        return output"
   ]
  },
  {
   "cell_type": "markdown",
   "metadata": {},
   "source": [
    "构建LocalCNNs"
   ]
  },
  {
   "cell_type": "code",
   "execution_count": null,
   "metadata": {},
   "outputs": [],
   "source": [
    "class LocalCNN(nn.Module):\n",
    "    def __init__(self):\n",
    "        "
   ]
  }
 ],
 "metadata": {
  "interpreter": {
   "hash": "0b44c525ca95e5dbf893da2282eb3ec3f420cb9fa59d94f9af90ca833dc1a37c"
  },
  "kernelspec": {
   "display_name": "Python 3.8.12 64-bit ('pytorch': conda)",
   "language": "python",
   "name": "python3"
  },
  "language_info": {
   "codemirror_mode": {
    "name": "ipython",
    "version": 3
   },
   "file_extension": ".py",
   "mimetype": "text/x-python",
   "name": "python",
   "nbconvert_exporter": "python",
   "pygments_lexer": "ipython3",
   "version": "3.8.12"
  },
  "orig_nbformat": 4
 },
 "nbformat": 4,
 "nbformat_minor": 2
}
