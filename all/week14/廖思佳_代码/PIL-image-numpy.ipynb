{
 "cells": [
  {
   "cell_type": "markdown",
   "metadata": {},
   "source": [
    "PIL库Image类型与Numpy类型转换\n",
    "1、PLI库读取图片后的类型示例\n",
    "2、PIL库读取图片后Image类型转换成numpy库的np.array类型\n",
    "3、np.array类型转换成PIL库的Image类型"
   ]
  },
  {
   "cell_type": "code",
   "execution_count": null,
   "metadata": {},
   "outputs": [],
   "source": [
    "from PIL import Image\n",
    "import matplotlib.pyplot as plt\n",
    "\n",
    "#1、PLI库读取图片后的类型示例\n",
    "img = Image.open(\"C:\\\\Users\\\\lsj\\\\Pictures\\\\Camera Roll\\\\9b40e016gy1ge2ch25ekij20u011i7wh.jpg\")\n",
    "print('类型：',type(img))\n",
    "print('类型名称：',img.__class__.__name__)\n",
    "\n",
    "#显示和用户的交互\n",
    "plt.imshow(img)\n",
    "plt.show"
   ]
  },
  {
   "cell_type": "code",
   "execution_count": null,
   "metadata": {},
   "outputs": [],
   "source": [
    "#2、PIL库读取图片后Image类型转换成numpy库的np.array类型\n",
    "import numpy as np\n",
    "\n",
    "print('Image类型大小[W*H]：',img.size)\n",
    "print('Image类型图像通道数：',len(img.split()))\n",
    "print('Image类型图像[100,200]像素值：',img.getpixel((100,200)))\n",
    "print(img.split())\n",
    "\n",
    "# 转换成numpy库的np.array类型\n",
    "img_numpy = np.array(img)\n",
    "print(\"np.array类型维度大小[H*W*C]：\",img_numpy.shape)\n",
    "print('np.array类型中[200,100,:]的值: ',img_numpy[200,100,:])\n",
    "print(\"np.array类型的数据类型：\",img_numpy.dtype)"
   ]
  },
  {
   "cell_type": "code",
   "execution_count": null,
   "metadata": {},
   "outputs": [],
   "source": [
    "#3、np.array类型转换成PIL库的Image类型\n",
    "img_image=Image.fromarray(img_numpy)\n",
    "print(\"Image类型大小[W*H]：\",img_image.size)\n",
    "print(\"Image类型图像通道数：\",len(img_image.split()))\n",
    "print(\"Image类型图像[100,200]像素值：\",img_image.getpixel((100,200)))\n",
    "plt.imshow(img_image)\n",
    "plt.show()"
   ]
  }
 ],
 "metadata": {
  "language_info": {
   "name": "python"
  },
  "orig_nbformat": 4
 },
 "nbformat": 4,
 "nbformat_minor": 2
}
