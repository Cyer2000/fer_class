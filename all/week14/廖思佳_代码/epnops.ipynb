{
 "cells": [
  {
   "cell_type": "markdown",
   "metadata": {},
   "source": [
    "#### einops主要是rearrange, reduce, repeat这3个方法\n",
    "* rearrange\n",
    "    * 重新安排维度\n",
    "* reduce\n",
    "* repeat"
   ]
  },
  {
   "cell_type": "code",
   "execution_count": null,
   "metadata": {},
   "outputs": [],
   "source": []
  }
 ],
 "metadata": {
  "language_info": {
   "name": "python"
  },
  "orig_nbformat": 4
 },
 "nbformat": 4,
 "nbformat_minor": 2
}
