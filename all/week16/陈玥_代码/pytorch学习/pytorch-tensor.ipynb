{
 "cells": [
  {
   "cell_type": "markdown",
   "metadata": {},
   "source": [
    "### Tensor(张量)\n",
    "Tensor可以使用GPU计算"
   ]
  },
  {
   "cell_type": "code",
   "execution_count": 2,
   "metadata": {},
   "outputs": [],
   "source": [
    "from __future__ import print_function \n",
    "#用比当前版本更新的版本的print函数\n",
    "#如果某个版本中出现了某个新的功能特性，而且这个特性和当前版本中使用的不兼容，也就是它在该版本中不是语言标准，那么我如果想要使用的话就需要从future模块导入\n",
    "import torch"
   ]
  },
  {
   "cell_type": "markdown",
   "metadata": {},
   "source": [
    "### torch.empty()\n",
    "创建的矩阵不是空矩阵，而是未初始化的矩阵，所以里面的值不一定为0\n",
    "### torch.rand()\n",
    "rand方法生成的是一个用随机数初始化的矩阵，里面的数值为限定时是在[0,1]之间随机生成\n",
    "### torch.zeros()\n",
    "生成0矩阵，detype参数指定了生成的数据的类型"
   ]
  },
  {
   "cell_type": "code",
   "execution_count": 22,
   "metadata": {},
   "outputs": [
    {
     "name": "stdout",
     "output_type": "stream",
     "text": [
      "tensor([[9.2755e-39, 1.0561e-38, 9.9184e-39],\n",
      "        [9.7347e-39, 4.2246e-39, 1.0286e-38],\n",
      "        [1.0653e-38, 1.0194e-38, 8.4490e-39],\n",
      "        [1.0469e-38, 9.3674e-39, 9.9184e-39],\n",
      "        [8.7245e-39, 9.2755e-39, 8.9082e-39]])\n",
      "tensor([[0.8130, 0.5629, 0.5941],\n",
      "        [0.9352, 0.1794, 0.6543],\n",
      "        [0.3154, 0.9947, 0.6330],\n",
      "        [0.1798, 0.7803, 0.7325]])\n",
      "tensor([[0., 0.],\n",
      "        [0., 0.],\n",
      "        [0., 0.],\n",
      "        [0., 0.]])\n"
     ]
    }
   ],
   "source": [
    "#构造一个5*3的矩阵，不初始化\n",
    "x = torch.empty(5, 3)\n",
    "print(x)\n",
    "del x\n",
    "\n",
    "#构造一个随机初始化的矩阵\n",
    "x = torch.rand(4, 3)\n",
    "print(x)\n",
    "del x\n",
    "\n",
    "#零矩阵\n",
    "x = torch.zeros(4,2,dtype=torch.long)\n",
    "print(x)\n",
    "del x\n"
   ]
  },
  {
   "cell_type": "code",
   "execution_count": 47,
   "metadata": {},
   "outputs": [
    {
     "name": "stdout",
     "output_type": "stream",
     "text": [
      "tensor([[5.5000, 3.0000],\n",
      "        [1.0000, 3.2000],\n",
      "        [1.0000, 7.0000]])\n",
      "tensor([[1., 1., 1.],\n",
      "        [1., 1., 1.],\n",
      "        [1., 1., 1.],\n",
      "        [1., 1., 1.],\n",
      "        [1., 1., 1.]], dtype=torch.float64)\n",
      "tensor([[0.8848, 0.5209, 0.1145],\n",
      "        [0.1268, 0.4456, 0.3377],\n",
      "        [0.7568, 0.5200, 0.9009],\n",
      "        [0.3830, 0.0472, 0.4234],\n",
      "        [0.2528, 0.5404, 0.1748]])\n",
      "torch.Size([5, 3])\n"
     ]
    }
   ],
   "source": [
    "#构建一个张量，直接使用数据\n",
    "x = torch.tensor([[5.5,3],[1,3.2],[1,7]])\n",
    "print(x)\n",
    "\n",
    "#创建一个tensor基于已经存在的tensor\n",
    "x = x.new_ones(5, 3, dtype=torch.double)  # new_* methods take in sizes\n",
    "print(x)\n",
    "# override dtype!\n",
    "x = torch.rand_like(x, dtype=torch.float)\n",
    "print(x)\n",
    "\n",
    "# 获取维度信息\n",
    "print(x.size())\n",
    "del x\n"
   ]
  },
  {
   "cell_type": "code",
   "execution_count": 36,
   "metadata": {},
   "outputs": [
    {
     "name": "stdout",
     "output_type": "stream",
     "text": [
      "tensor([[0.9677, 1.1536, 0.7954],\n",
      "        [0.7877, 1.1503, 1.2650],\n",
      "        [1.4950, 1.7915, 1.4434],\n",
      "        [0.6947, 1.0385, 0.6153],\n",
      "        [0.4239, 1.5729, 0.9048]])\n",
      "tensor([[0.9677, 1.1536, 0.7954],\n",
      "        [0.7877, 1.1503, 1.2650],\n",
      "        [1.4950, 1.7915, 1.4434],\n",
      "        [0.6947, 1.0385, 0.6153],\n",
      "        [0.4239, 1.5729, 0.9048]])\n",
      "tensor([[0.9677, 1.1536, 0.7954],\n",
      "        [0.7877, 1.1503, 1.2650],\n",
      "        [1.4950, 1.7915, 1.4434],\n",
      "        [0.6947, 1.0385, 0.6153],\n",
      "        [0.4239, 1.5729, 0.9048]])\n",
      "tensor([[0.9677, 1.1536, 0.7954],\n",
      "        [0.7877, 1.1503, 1.2650],\n",
      "        [1.4950, 1.7915, 1.4434],\n",
      "        [0.6947, 1.0385, 0.6153],\n",
      "        [0.4239, 1.5729, 0.9048]])\n"
     ]
    }
   ],
   "source": [
    "# 加法操作\n",
    "# 法1\n",
    "x = torch.rand(5,3)\n",
    "y = torch.rand(5,3)\n",
    "print(x + y)\n",
    "\n",
    "#法2\n",
    "print(torch.add(x,y))\n",
    "\n",
    "#提供一个输出tensor作为参数\n",
    "result = torch.empty(5,3)\n",
    "torch.add(x,y,out=result)\n",
    "print(result)\n",
    "\n",
    "# in-place\n",
    "# 任何使张量会发生变化的操作都有一个前缀 ‘’。例如：x.copy(y), x.t_(), 将会改变 x.\n",
    "# 在提供的方法中，如果是(operation)_ (arg)格式的方法的，操作后会替换到调用这个方法的对象\n",
    "print(y.add_(x))\n",
    "\n",
    "del x, y"
   ]
  },
  {
   "cell_type": "code",
   "execution_count": 49,
   "metadata": {},
   "outputs": [
    {
     "name": "stdout",
     "output_type": "stream",
     "text": [
      "tensor([[0.3950, 0.6389, 0.0863],\n",
      "        [0.2486, 0.8204, 0.4562],\n",
      "        [0.5468, 0.7040, 0.6605],\n",
      "        [0.6142, 0.3195, 0.6183],\n",
      "        [0.3570, 0.1794, 0.0146]])\n",
      "tensor([0.6389, 0.8204, 0.7040, 0.3195, 0.1794])\n",
      "tensor([0.2486, 0.8204, 0.4562])\n",
      "tensor([[-2.0958, -0.6813,  1.1618, -1.1959],\n",
      "        [-0.1138,  2.2025,  0.9592, -1.2419],\n",
      "        [ 1.5466,  0.2691, -0.0165, -0.7713],\n",
      "        [-0.2043, -1.5196,  0.7298,  1.3535]])\n",
      "tensor([-2.0958, -0.6813,  1.1618, -1.1959, -0.1138,  2.2025,  0.9592, -1.2419,\n",
      "         1.5466,  0.2691, -0.0165, -0.7713, -0.2043, -1.5196,  0.7298,  1.3535])\n"
     ]
    }
   ],
   "source": [
    "#  使用标准的 NumPy 类似的索引操作\n",
    "x = torch.rand(5, 3)\n",
    "print(x)\n",
    "print(x[:,1]) # 第1列\n",
    "print(x[1,:]) # 第1行\n",
    "del x"
   ]
  },
  {
   "cell_type": "code",
   "execution_count": 57,
   "metadata": {},
   "outputs": [
    {
     "name": "stdout",
     "output_type": "stream",
     "text": [
      "tensor([[-0.8866,  2.8248,  1.2147,  1.3770],\n",
      "        [ 1.1848, -0.0169, -0.8084, -0.7689],\n",
      "        [-0.7298, -1.6150, -0.4577,  0.8436],\n",
      "        [ 0.2294, -0.3432, -0.3540,  1.0920]])\n",
      "tensor([-0.8866,  2.8248,  1.2147,  1.3770,  1.1848, -0.0169, -0.8084, -0.7689,\n",
      "        -0.7298, -1.6150, -0.4577,  0.8436,  0.2294, -0.3432, -0.3540,  1.0920])\n",
      "tensor([[-0.8866,  2.8248,  1.2147,  1.3770,  1.1848, -0.0169, -0.8084, -0.7689],\n",
      "        [-0.7298, -1.6150, -0.4577,  0.8436,  0.2294, -0.3432, -0.3540,  1.0920]])\n",
      "torch.Size([4, 4]) torch.Size([16]) torch.Size([2, 8])\n"
     ]
    }
   ],
   "source": [
    "#改变大小:如果你想改变一个 tensor 的大小或者形状，你可以使用 torch.view\n",
    "x = torch.randn(4, 4)\n",
    "print(x)\n",
    "y = x.view(16)\n",
    "print(y)\n",
    "z = x.view(2,8)  #the size -1 is inferred from other dimensions\n",
    "print(z)\n",
    "print(x.size(),y.size(),z.size())\n",
    "del x, y, z"
   ]
  },
  {
   "cell_type": "code",
   "execution_count": 61,
   "metadata": {},
   "outputs": [
    {
     "name": "stdout",
     "output_type": "stream",
     "text": [
      "tensor([0.1897])\n",
      "0.1897328495979309\n"
     ]
    }
   ],
   "source": [
    "# 有一个元素 tensor ，使用 .item() 来获得这个 value\n",
    "# only one element tensors can be converted to Python scalars\n",
    "x = torch.rand(1)\n",
    "print(x)\n",
    "print(x.item())\n",
    "del x"
   ]
  },
  {
   "cell_type": "code",
   "execution_count": 3,
   "metadata": {},
   "outputs": [
    {
     "name": "stdout",
     "output_type": "stream",
     "text": [
      "tensor([[[ 0.1819,  0.8817,  0.4453, -0.2474,  0.1320],\n",
      "         [-2.3574, -0.6190, -0.5267, -0.2791,  0.1742],\n",
      "         [-1.1595, -0.4749, -0.6572, -0.8144,  0.8769]],\n",
      "\n",
      "        [[ 1.3520, -0.0215,  1.0156, -0.4210, -0.3527],\n",
      "         [ 1.5945,  0.7555,  0.9375,  1.1207,  0.1146],\n",
      "         [ 0.0446, -1.4067, -0.3766, -0.1404, -0.6249]]])\n",
      "tensor([[[ 0.1819, -2.3574, -1.1595],\n",
      "         [ 1.3520,  1.5945,  0.0446]],\n",
      "\n",
      "        [[ 0.8817, -0.6190, -0.4749],\n",
      "         [-0.0215,  0.7555, -1.4067]],\n",
      "\n",
      "        [[ 0.4453, -0.5267, -0.6572],\n",
      "         [ 1.0156,  0.9375, -0.3766]],\n",
      "\n",
      "        [[-0.2474, -0.2791, -0.8144],\n",
      "         [-0.4210,  1.1207, -0.1404]],\n",
      "\n",
      "        [[ 0.1320,  0.1742,  0.8769],\n",
      "         [-0.3527,  0.1146, -0.6249]]])\n"
     ]
    }
   ],
   "source": [
    "# permute\n",
    "x=torch.randn(2,3,5)\n",
    "print(x)\n",
    "print(x.permute(2,0,1))\n",
    "del x"
   ]
  },
  {
   "cell_type": "code",
   "execution_count": 7,
   "metadata": {},
   "outputs": [
    {
     "name": "stdout",
     "output_type": "stream",
     "text": [
      "tensor([[[0.1398, 0.1241, 0.8804, 0.5725, 0.4980],\n",
      "         [0.3978, 0.4305, 0.7748, 0.2540, 0.6507],\n",
      "         [0.4657, 0.7460, 0.3016, 0.4784, 0.5737]],\n",
      "\n",
      "        [[0.3954, 0.4639, 0.3829, 0.4042, 0.3835],\n",
      "         [0.3311, 0.7268, 0.7097, 0.6762, 0.2821],\n",
      "         [0.8117, 0.8426, 0.1421, 0.3624, 0.8337]]])\n",
      "torch.Size([3, 5])\n",
      "3 3\n",
      "5 15\n",
      "tensor([[0.1398, 0.1241, 0.8804, 0.5725, 0.4980, 0.3978, 0.4305, 0.7748, 0.2540,\n",
      "         0.6507, 0.4657, 0.7460, 0.3016, 0.4784, 0.5737],\n",
      "        [0.3954, 0.4639, 0.3829, 0.4042, 0.3835, 0.3311, 0.7268, 0.7097, 0.6762,\n",
      "         0.2821, 0.8117, 0.8426, 0.1421, 0.3624, 0.8337]])\n"
     ]
    }
   ],
   "source": [
    "# size\n",
    "x = torch.rand(2,3,5)\n",
    "print(x)\n",
    "size = x.size()[1:]\n",
    "print(size)\n",
    "num_features = 1\n",
    "for s in size :\n",
    "    num_features *= s\n",
    "    print(s,num_features)\n",
    "print(x.view(-1,num_features))\n"
   ]
  }
 ],
 "metadata": {
  "interpreter": {
   "hash": "be203ce0b3afc4f5c37fbac412025d7ed1d67cabe9dd00b1fc8774c6d6d19d70"
  },
  "kernelspec": {
   "display_name": "Python 3.8.12 64-bit ('pytorch': conda)",
   "language": "python",
   "name": "python3"
  },
  "language_info": {
   "codemirror_mode": {
    "name": "ipython",
    "version": 3
   },
   "file_extension": ".py",
   "mimetype": "text/x-python",
   "name": "python",
   "nbconvert_exporter": "python",
   "pygments_lexer": "ipython3",
   "version": "3.8.12"
  },
  "orig_nbformat": 4
 },
 "nbformat": 4,
 "nbformat_minor": 2
}
