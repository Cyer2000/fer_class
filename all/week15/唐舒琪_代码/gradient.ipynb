{
 "cells": [
  {
   "cell_type": "code",
   "execution_count": 3,
   "metadata": {},
   "outputs": [],
   "source": [
    "import cv2\n",
    "import numpy as np\n",
    "\n",
    "def sobel_demo(image):\n",
    "    gray_x = cv2.Sobel(image, cv2.CV_32F, 1, 0)  # x方向一阶导数\n",
    "    gray_y = cv2.Sobel(image, cv2.CV_32F, 0, 1)  # y方向一阶导数\n",
    "    gradx = cv2.convertScaleAbs(gray_x)  # 转回原来的uint8形式\n",
    "    grady = cv2.convertScaleAbs(gray_y)\n",
    "    gradxy = cv2.addWeighted(gradx, 0.5, grady, 0.5, 0)  # 图像融合\n",
    "    # print(gradx)\n",
    "    # print(grady)\n",
    "    return gradxy\n",
    "    # cv2.imshow(\"gradient-x\", gradx)\n",
    "    # cv2.imshow(\"gradient-y\", grady)\n",
    "    # cv2.imshow(\"gradient_xy\", gradxy)"
   ]
  },
  {
   "cell_type": "code",
   "execution_count": 4,
   "metadata": {},
   "outputs": [
    {
     "data": {
      "text/plain": [
       "array([[[  0,   0,   0],\n",
       "        [  1,   1,   1],\n",
       "        [  1,   1,   1],\n",
       "        ...,\n",
       "        [  4,   4,   4],\n",
       "        [  3,   3,   3],\n",
       "        [  0,   0,   0]],\n",
       "\n",
       "       [[  5,   5,   5],\n",
       "        [  4,   4,   4],\n",
       "        [  2,   2,   2],\n",
       "        ...,\n",
       "        [  7,   7,   7],\n",
       "        [  8,   8,   8],\n",
       "        [  5,   5,   5]],\n",
       "\n",
       "       [[  0,   0,   0],\n",
       "        [  2,   2,   2],\n",
       "        [  4,   4,   4],\n",
       "        ...,\n",
       "        [  8,   8,   8],\n",
       "        [  9,   9,   9],\n",
       "        [  4,   4,   4]],\n",
       "\n",
       "       ...,\n",
       "\n",
       "       [[  3,   3,   3],\n",
       "        [ 16,  16,  16],\n",
       "        [123, 123, 123],\n",
       "        ...,\n",
       "        [  0,   0,   0],\n",
       "        [  0,   0,   0],\n",
       "        [  0,   0,   0]],\n",
       "\n",
       "       [[  4,   4,   4],\n",
       "        [ 19,  19,  19],\n",
       "        [ 92,  92,  92],\n",
       "        ...,\n",
       "        [  2,   2,   2],\n",
       "        [  2,   2,   2],\n",
       "        [  2,   2,   2]],\n",
       "\n",
       "       [[  0,   0,   0],\n",
       "        [ 15,  15,  15],\n",
       "        [ 59,  59,  59],\n",
       "        ...,\n",
       "        [  0,   0,   0],\n",
       "        [  0,   0,   0],\n",
       "        [  0,   0,   0]]], dtype=uint8)"
      ]
     },
     "execution_count": 4,
     "metadata": {},
     "output_type": "execute_result"
    }
   ],
   "source": [
    "image=cv2.imread(\"test.jpg\")\n",
    "image=image[:, :, ::-1]\n",
    "sobel_demo(image)"
   ]
  }
 ],
 "metadata": {
  "interpreter": {
   "hash": "0b44c525ca95e5dbf893da2282eb3ec3f420cb9fa59d94f9af90ca833dc1a37c"
  },
  "kernelspec": {
   "display_name": "Python 3.8.12 64-bit ('pytorch': conda)",
   "language": "python",
   "name": "python3"
  },
  "language_info": {
   "codemirror_mode": {
    "name": "ipython",
    "version": 3
   },
   "file_extension": ".py",
   "mimetype": "text/x-python",
   "name": "python",
   "nbconvert_exporter": "python",
   "pygments_lexer": "ipython3",
   "version": "3.8.12"
  },
  "orig_nbformat": 4
 },
 "nbformat": 4,
 "nbformat_minor": 2
}
