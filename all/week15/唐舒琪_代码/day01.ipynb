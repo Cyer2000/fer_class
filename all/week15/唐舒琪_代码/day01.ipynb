{
 "cells": [
  {
   "cell_type": "code",
   "execution_count": 1,
   "metadata": {},
   "outputs": [
    {
     "name": "stdout",
     "output_type": "stream",
     "text": [
      "tensor([[[[ 0.8592, -1.5519, -1.1331,  0.2478],\n",
      "          [ 1.6175,  1.9244, -1.9487, -1.0057],\n",
      "          [-0.1172, -0.8962, -1.1660, -0.1693]],\n",
      "\n",
      "         [[ 0.3320, -0.0628, -0.6673, -0.3221],\n",
      "          [ 1.1409,  0.5191, -1.2132,  1.4107],\n",
      "          [-0.9285, -0.6838, -1.5626, -1.4731]]]])\n",
      "tensor([[[ 0.8592, -1.5519, -1.1331,  0.2478,  0.3320, -0.0628, -0.6673,\n",
      "          -0.3221],\n",
      "         [ 1.6175,  1.9244, -1.9487, -1.0057,  1.1409,  0.5191, -1.2132,\n",
      "           1.4107],\n",
      "         [-0.1172, -0.8962, -1.1660, -0.1693, -0.9285, -0.6838, -1.5626,\n",
      "          -1.4731]]])\n",
      "tensor([[ 0.8592, -1.5519, -1.1331,  0.2478,  0.3320, -0.0628, -0.6673, -0.3221]])\n"
     ]
    }
   ],
   "source": [
    "import einops\n",
    "import torch\n",
    "\n",
    "x=torch.randn(1,2,3,4)\n",
    "print(x)\n",
    "x=einops.rearrange(x,\"b c h w -> b h (c w)\")\n",
    "print(x)\n",
    "print(x[:,0])"
   ]
  }
 ],
 "metadata": {
  "interpreter": {
   "hash": "0b44c525ca95e5dbf893da2282eb3ec3f420cb9fa59d94f9af90ca833dc1a37c"
  },
  "kernelspec": {
   "display_name": "Python 3.8.12 64-bit ('pytorch': conda)",
   "language": "python",
   "name": "python3"
  },
  "language_info": {
   "codemirror_mode": {
    "name": "ipython",
    "version": 3
   },
   "file_extension": ".py",
   "mimetype": "text/x-python",
   "name": "python",
   "nbconvert_exporter": "python",
   "pygments_lexer": "ipython3",
   "version": "3.8.12"
  },
  "orig_nbformat": 4
 },
 "nbformat": 4,
 "nbformat_minor": 2
}
