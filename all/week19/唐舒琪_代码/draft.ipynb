{
 "cells": [
  {
   "cell_type": "code",
   "execution_count": 8,
   "metadata": {},
   "outputs": [
    {
     "name": "stdout",
     "output_type": "stream",
     "text": [
      "12271\n",
      "3068\n",
      "***************************epoch: 0*****************************************\n"
     ]
    }
   ],
   "source": [
    "from IPython.display import display\n",
    "from torchvision import transforms\n",
    "import torchvision\n",
    "from PIL import Image\n",
    "pil=torchvision.transforms.ToPILImage()#将tensor数据转换成图片\n",
    "\n",
    "image = Image.open(\"test.jpg\")\n",
    "display(image)\n",
    "\n",
    "transform=transforms.Compose(\n",
    "            (\n",
    "                transforms.Resize((224, 224)),\n",
    "                transforms.ToTensor(),\n",
    "                transforms.RandomHorizontalFlip(),\n",
    "                transforms.RandomApply([transforms.GaussianBlur((5, 5)),], 0.3),\n",
    "                transforms.RandomApply(\n",
    "                    [transforms.ColorJitter(brightness=0.2, hue=0.05),], 0.3\n",
    "                ),\n",
    "                transforms.RandomGrayscale(0.2),\n",
    "                transforms.Normalize(\n",
    "                    mean=[0.485, 0.456, 0.406], std=[0.229, 0.224, 0.225]\n",
    "                ),\n",
    "                transforms.RandomErasing(scale=(0.02, 0.1)),\n",
    "            )\n",
    "        )\n",
    "\n",
    "image = transform(image)\n",
    "print(image.shape)\n",
    "display(pil(image))\n",
    "\n",
    "\n"
   ]
  }
 ],
 "metadata": {
  "interpreter": {
   "hash": "0b44c525ca95e5dbf893da2282eb3ec3f420cb9fa59d94f9af90ca833dc1a37c"
  },
  "kernelspec": {
   "display_name": "Python 3.8.12 ('pytorch')",
   "language": "python",
   "name": "python3"
  },
  "language_info": {
   "codemirror_mode": {
    "name": "ipython",
    "version": 3
   },
   "file_extension": ".py",
   "mimetype": "text/x-python",
   "name": "python",
   "nbconvert_exporter": "python",
   "pygments_lexer": "ipython3",
   "version": "3.8.12"
  },
  "orig_nbformat": 4
 },
 "nbformat": 4,
 "nbformat_minor": 2
}
